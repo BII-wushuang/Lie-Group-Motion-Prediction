{
 "cells": [
  {
   "cell_type": "code",
   "execution_count": 1,
   "metadata": {},
   "outputs": [],
   "source": [
    "import numpy as np\n",
    "import matplotlib.pyplot as plt\n",
    "from mpl_toolkits.mplot3d import Axes3D\n",
    "import scipy.io as sio\n",
    "import copy\n",
    "%matplotlib inline\n",
    "import os\n",
    "import glob"
   ]
  },
  {
   "cell_type": "markdown",
   "metadata": {},
   "source": [
    "## First download the preprocessed H3.6m Dataset\n",
    "\n",
    "The dataset is downloaded to [data/h3.6m](data/h3.6m)."
   ]
  },
  {
   "cell_type": "code",
   "execution_count": 2,
   "metadata": {},
   "outputs": [],
   "source": [
    "if not os.path.exists('data'):\n",
    "    os.mkdir('data')\n",
    "os.chdir('data')\n",
    "os.system('svn checkout https://github.com/BII-wushuang/Lie-Group-Motion-Prediction/trunk/src/data/h3.6m/')\n",
    "os.chdir('../')"
   ]
  },
  {
   "cell_type": "markdown",
   "metadata": {},
   "source": [
    "## Preliminaries\n",
    "\n",
    "Below we define a class for a skeleton. It will be initialized with the skeletal offsets as well as a kinematic tree (the different kinematic chains in the skeleton).\n",
    "\n",
    "The base skeletal offsets characterizes the default human pose, with no rotations at any joint."
   ]
  },
  {
   "cell_type": "code",
   "execution_count": 3,
   "metadata": {},
   "outputs": [],
   "source": [
    "class Skeleton:\n",
    "    def __init__(self, kinematic_tree):\n",
    "        # We first define the skeleton for H3.6m\n",
    "        self._kinematic_tree = kinematic_tree\n",
    "       \n",
    "    def kinematic_tree(self):\n",
    "        return self._kinematic_tree\n",
    "\n",
    "    def plot(self, joints):\n",
    "        plt.figure()\n",
    "        limits = 1200\n",
    "        ax = plt.axes(xlim=(-limits,limits), ylim=(-limits,limits), zlim=(-limits,limits), projection='3d')\n",
    "        ax.set_xlabel('x')\n",
    "        ax.set_ylabel('y')\n",
    "        ax.set_zlabel('z')\n",
    "        ax.view_init(elev=120, azim=-90)\n",
    "        ax.scatter(joints[:,0], joints[:,1], joints[:,2], color='black')\n",
    "        colors = ['red', 'yellow', 'black', 'green', 'blue']\n",
    "        for chain, color in zip(self._kinematic_tree, colors):\n",
    "            ax.plot3D(joints[chain,0], joints[chain,1], joints[chain,2], linewidth=2.0, color=color)\n"
   ]
  },
  {
   "cell_type": "markdown",
   "metadata": {},
   "source": [
    "## Initialze Skeleton class with following parameters"
   ]
  },
  {
   "cell_type": "code",
   "execution_count": 4,
   "metadata": {},
   "outputs": [],
   "source": [
    "# Define a kinematic tree for the skeletal struture\n",
    "# Left leg, Right leg, Spine, Left arm, Right arm\n",
    "kinematic_tree = [[0, 1, 2, 3, 4, 5], [0, 6, 7 ,8, 9, 10], [0, 12, 13, 14, 15], [13, 17, 18, 19, 22, 19, 21], [13, 25, 26, 27, 30, 27, 29]]\n",
    "human_skel = Skeleton(kinematic_tree)\n",
    "njoints = 32\n",
    "parents = np.array([-1,  0,  1,  2,  3,  4,  0,  6,  7,  8,  9,  0, 11, 12, 13, 14, 12, 16, 17, 18, 19, 20, 19, 22, 12, 24, 25, 26, 27, 28, 27, 30])"
   ]
  },
  {
   "cell_type": "markdown",
   "metadata": {},
   "source": [
    "## Load a sample 3D pose and plot"
   ]
  },
  {
   "cell_type": "code",
   "execution_count": 5,
   "metadata": {},
   "outputs": [
    {
     "data": {
      "image/png": "[encoded data removed]",
      "text/plain": [
       "<Figure size 432x288 with 1 Axes>"
      ]
     },
     "metadata": {
      "needs_background": "light"
     },
     "output_type": "display_data"
    }
   ],
   "source": [
    "data = sio.loadmat('Data/h3.6m/Train/train_xyz/S1_directions_1_xyz.mat')['joint_xyz']\n",
    "nframes = len(data)\n",
    "cur_frame = 0\n",
    "# load the frames and switch the y and z axis\n",
    "cur_joints_xyz = np.reshape(data[cur_frame], [32,3])[:,[0,2,1]]\n",
    "human_skel.plot(cur_joints_xyz)"
   ]
  },
  {
   "cell_type": "markdown",
   "metadata": {},
   "source": [
    "## Computing the angular velocity $\\omega$ and angular acceleration $\\alpha$\n",
    "\n",
    "When computing the angular velocity of a joint, we take the origin/pivot to be its parent joint.\n",
    "\n",
    "Let the position of joint i with respect to its parent joint in the $j-th$ frame be $\\mathbf{u}[j][i]$.\n",
    "\n",
    "To first order approximation, we have\n",
    "\n",
    "$\\frac{d\\mathbf{u}[i]}{dt}\\approx \\mathbf{u}[j+1][i] - \\mathbf{u}[j][i]\\approx \\omega[i]\\times \\mathbf{u}[j][i]$.\n",
    "\n",
    "To second order approximation, we have\n",
    "\n",
    "$\\alpha[j][i] \\approx \\omega[j+1][i] - \\omega[j][i]$,\n",
    "\n",
    "$\\frac{d^2\\mathbf{u}[i]}{dt^2}\\approx \\mathbf{u}[j+2][i] - 2\\mathbf{u}[j+1][i] + \\mathbf{u}[j][i]\\approx \\alpha[j][i]\\times\\mathbf{u}[j][i] + \\omega[j][i]\\times(\\omega[j][i]\\times \\mathbf{u}[j][i])$."
   ]
  },
  {
   "cell_type": "code",
   "execution_count": 6,
   "metadata": {},
   "outputs": [],
   "source": [
    "def findrot(u, v):\n",
    "    '''find the axis angle parameters to rotate vector u onto vector v'''\n",
    "    u = u/np.linalg.norm(u)\n",
    "    v = v/np.linalg.norm(v)\n",
    "    w = np.cross(u, v)\n",
    "    w_norm = np.linalg.norm(w)\n",
    "    if w_norm < 1e-6:\n",
    "        A = np.zeros(3)\n",
    "    else:\n",
    "        A = w / w_norm * np.arccos(np.dot(u, v))\n",
    "    return A\n",
    "\n",
    "u = np.zeros([nframes,njoints,3])\n",
    "\n",
    "omega = np.zeros([nframes-1,njoints,3])\n",
    "alpha = np.zeros([nframes-2,njoints,3])\n",
    "\n",
    "for j in range(nframes):\n",
    "    for i in range(1, njoints):\n",
    "        joints = np.reshape(data[j], [32,3])[:,[0,2,1]]\n",
    "        u[j][i] = joints[i] - joints[parents[i]]\n",
    "\n",
    "for j in range(nframes-1):\n",
    "    for i in range(1, njoints):\n",
    "        if np.linalg.norm(u[j][i]) > 0:\n",
    "            omega[j][i] = findrot(u[j][i],u[j+1][i])\n",
    "    if j>0:\n",
    "        alpha[j-1] = omega[j] - omega[j-1]"
   ]
  },
  {
   "cell_type": "markdown",
   "metadata": {},
   "source": [
    "## Sanity Check for angular velocity\n",
    "\n",
    "We can check if \n",
    "$\\frac{d\\mathbf{u}[i]}{dt}\\approx \\mathbf{u}[j+1][i] - \\mathbf{u}[j][i]\\approx \\omega[i]\\times \\mathbf{u}[j][i]$.\n",
    "\n",
    "## Sanity Check for angular acceleration\n",
    "\n",
    "We can check if\n",
    "$\\frac{d^2\\mathbf{u}[i]}{dt^2}\\approx \\mathbf{u}[j+2][i] - 2\\mathbf{u}[j+1][i] + \\mathbf{u}[j][i]\\approx \\alpha[j][i]\\times\\mathbf{u}[j][i] + \\omega[j][i]\\times(\\omega[j][i]\\times \\mathbf{u}[j][i])$."
   ]
  },
  {
   "cell_type": "code",
   "execution_count": 7,
   "metadata": {},
   "outputs": [
    {
     "name": "stdout",
     "output_type": "stream",
     "text": [
      "[ 7.67852253 -0.27187875  2.06223339] \n",
      " [ 7.67354744 -0.34266839  2.07059982]\n",
      "[0.71737025 0.1237449  0.06764268] \n",
      " [0.71834762 0.09792262 0.07144112]\n"
     ]
    }
   ],
   "source": [
    "j = 15\n",
    "i = 7\n",
    "\n",
    "print(u[j+1][i] - u[j][i], '\\n', np.cross(omega[j][i],u[j][i]))\n",
    "\n",
    "print(u[j+2][i]-2*u[j+1][i] + u[j][i], '\\n', np.cross(alpha[j][i],u[j][i])+np.cross(omega[j][i],np.cross(omega[j][i],u[j][i])))"
   ]
  },
  {
   "cell_type": "code",
   "execution_count": null,
   "metadata": {},
   "outputs": [],
   "source": []
  }
 ],
 "metadata": {
  "kernelspec": {
   "display_name": "Python 3",
   "language": "python",
   "name": "python3"
  },
  "language_info": {
   "codemirror_mode": {
    "name": "ipython",
    "version": 3
   },
   "file_extension": ".py",
   "mimetype": "text/x-python",
   "name": "python",
   "nbconvert_exporter": "python",
   "pygments_lexer": "ipython3",
   "version": "3.8.5"
  }
 },
 "nbformat": 4,
 "nbformat_minor": 2
}
