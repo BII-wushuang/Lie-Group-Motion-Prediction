{
 "cells": [
  {
   "cell_type": "code",
   "execution_count": 1,
   "metadata": {},
   "outputs": [],
   "source": [
    "import numpy as np\n",
    "import matplotlib.pyplot as plt\n",
    "from mpl_toolkits.mplot3d import Axes3D\n",
    "import scipy.io as sio\n",
    "import copy\n",
    "%matplotlib inline\n",
    "import os\n",
    "import glob"
   ]
  },
  {
   "cell_type": "markdown",
   "metadata": {},
   "source": [
    "## First download the preprocessed H3.6m Dataset\n",
    "\n",
    "The dataset is downloaded to [data/h3.6m](data/h3.6m)."
   ]
  },
  {
   "cell_type": "code",
   "execution_count": null,
   "metadata": {},
   "outputs": [],
   "source": [
    "if not os.path.exists('data'):\n",
    "    os.mkdir('data')\n",
    "os.chdir('data')\n",
    "os.system('svn checkout https://github.com/BII-wushuang/Lie-Group-Motion-Prediction/trunk/src/data/h3.6m/')\n",
    "os.chdir('../')"
   ]
  },
  {
   "cell_type": "markdown",
   "metadata": {},
   "source": [
    "## Preliminaries\n",
    "\n",
    "Below we define a class for a skeleton. It will be initialized with the skeletal offsets as well as a kinematic tree (the different kinematic chains in the skeleton).\n",
    "\n",
    "The base skeletal offsets characterizes the default human pose, with no rotations at any joint.\n",
    "\n",
    "## Inverse and Forward kinematics\n",
    "We denote by $R$ the rotation matrix and $T$ the translation vector associated with a bone. In particular, the translation matrix for each joint is exactly given by the skeletal offset vector. Joint locations are denoted by $j$.\n",
    "\n",
    "The fundamental kinematic chain equation is the following:\n",
    "$$\\left(\\begin{matrix}R_0 & T_0 \\\\ 0 & 1\\end{matrix}\\right)\\cdots\\left(\\begin{matrix}R_{n} & T_{n} \\\\ 0 & 1\\end{matrix}\\right)\\left(\\begin{matrix} 0 \\\\ 1\\end{matrix}\\right) = \\left(\\begin{matrix} j_n \\\\ 1\\end{matrix}\\right)$$\n",
    "which is equivalent to the following:\n",
    "$$j_n = R_0\\cdots R_{n-1} T_n + j_{n-1}.$$\n",
    "\n",
    "With the above, we are ready to implement the inverse and forward kinematics functions."
   ]
  },
  {
   "cell_type": "code",
   "execution_count": 3,
   "metadata": {},
   "outputs": [],
   "source": [
    "def RtoLie(R):\n",
    "    '''Returns the axis angle aka lie algebra parameters from a rotation matrix'''\n",
    "    theta = np.arccos((np.trace(R) - 1) / 2.0)\n",
    "    if theta < 1e-6:\n",
    "        A = np.zeros(3)\n",
    "    else:\n",
    "        A = theta / (2 * np.sin(theta)) * np.array([R[2, 1] - R[1, 2], R[0, 2] - R[2, 0], R[1, 0] - R[0, 1]])\n",
    "    return A\n",
    "\n",
    "def LietoR(A):\n",
    "    '''Returns the rotation matrix from lie algebra parameters'''\n",
    "    theta = np.linalg.norm(A)\n",
    "    if theta == 0:\n",
    "        R = np.identity(3)\n",
    "    else:\n",
    "        A = A / theta\n",
    "        cross_matrix = np.array([[0, -A[2], A[1]], [A[2], 0, -A[0]], [-A[1], A[0], 0]])\n",
    "        R = np.identity(3) + np.sin(theta) * cross_matrix + (1 - np.cos(theta)) * np.matmul(cross_matrix, cross_matrix)\n",
    "    return R\n",
    "\n",
    "def findrot(u, v):\n",
    "    '''find the axis angle parameters to rotate unit vector u onto unit vector v'''\n",
    "    w = np.cross(u, v)\n",
    "    w_norm = np.linalg.norm(w)\n",
    "    if w_norm < 1e-6:\n",
    "        A = np.zeros(3)\n",
    "    else:\n",
    "        A = w / w_norm * np.arccos(np.dot(u, v))\n",
    "    return A\n",
    "\n",
    "def eulertoR(angle):\n",
    "    '''Returns the rotation matrix from euler angle parameters'''\n",
    "    a = angle[0]\n",
    "    b = angle[1]\n",
    "    c = angle[2]\n",
    "\n",
    "    a1 = np.array([1, 0, 0])\n",
    "    a2 = np.array([0, np.cos(a), -np.sin(a)])\n",
    "    a3 = np.array([0, np.sin(a), np.cos(a)])\n",
    "\n",
    "    A = np.array([a1, a2, a3])\n",
    "\n",
    "    b1 = np.array([np.cos(b), 0, np.sin(b)])\n",
    "    b2 = np.array([0, 1, 0])\n",
    "    b3 = np.array([-np.sin(b), 0, np.cos(b)])\n",
    "\n",
    "    B = np.array([b1, b2, b3])\n",
    "\n",
    "    c1 = np.array([np.cos(c), -np.sin(c), 0])\n",
    "    c2 = np.array([np.sin(c), np.cos(c), 0])\n",
    "    c3 = np.array([0, 0, 1])\n",
    "\n",
    "    C = np.array([c1, c2, c3])\n",
    "\n",
    "    R = np.matmul(np.matmul(A, B), C)\n",
    "\n",
    "    return R\n",
    "\n",
    "class Skeleton:\n",
    "    def __init__(self, kinematic_tree, offsets, parents):\n",
    "        # We first define the skeleton for H3.6m\n",
    "        self._kinematic_tree = kinematic_tree\n",
    "        self._offsets = offsets\n",
    "        self._njoints = offsets.shape[0]\n",
    "        self._raw_offsets = copy.deepcopy(offsets)\n",
    "        for i in range(self._njoints):\n",
    "            n = np.linalg.norm(self._raw_offsets[i])\n",
    "            if n > 0:\n",
    "                self._raw_offsets[i] = self._raw_offsets[i]/n\n",
    "        \n",
    "        self._parents = parents\n",
    "                \n",
    "    def njoints(self):\n",
    "        return self._njoints\n",
    "    \n",
    "    def kinematic_tree(self):\n",
    "        return self._kinematic_tree\n",
    "\n",
    "    def raw_offsets(self):\n",
    "        return self._raw_offsets\n",
    "    \n",
    "    def offsets(self):\n",
    "        return self._offsets\n",
    "        \n",
    "    def parents(self):\n",
    "        return self._parents\n",
    "    \n",
    "    def get_bonelengths(self, joints):\n",
    "        '''This adjusts the bone lengths according to the joints'''\n",
    "        for i in range(1, len(self._raw_offsets)):\n",
    "            self._offsets[i] = np.linalg.norm(joints[i] - joints[self._parents[i]]) * self._raw_offsets[i]\n",
    "    \n",
    "#     def inverse_kinematics(self, joints):\n",
    "#         lie_params = np.zeros([self._njoints, 3])\n",
    "#         for chain in self._kinematic_tree:\n",
    "#             R = np.eye(3)\n",
    "#             for j in range(len(chain)-1):\n",
    "#                 u = self._raw_offsets[chain[j+1]]\n",
    "#                 v = joints[chain[j+1]]-joints[chain[j]]\n",
    "#                 v = v / np.linalg.norm(v)\n",
    "#                 R_local = np.matmul(np.transpose(R), LietoR(findrot(u,v)))\n",
    "#                 lie_params[chain[j+1]] = RtoLie(R_local)\n",
    "#                 R = np.matmul(R, R_local)\n",
    "#         return lie_params\n",
    "    \n",
    "    def forward_kinematics(self, lie_params):\n",
    "        joints = np.zeros([self._njoints, 3])\n",
    "        R = np.zeros([self._njoints, 3, 3])\n",
    "        for i in range(self._njoints):\n",
    "            if self._parents[i] == -1:  # Root node\n",
    "                R[i] = np.eye(3)\n",
    "            else:\n",
    "                joints[i] = self._offsets[i].dot(R[self._parents[i]]) + joints[self._parents[i]]\n",
    "                R[i] = LietoR(lie_params[i]).dot(R[self._parents[i]])\n",
    "        return joints\n",
    "    \n",
    "    def forward_kinematics_euler(self, angles):\n",
    "        joints = np.zeros([self._njoints, 3])\n",
    "        angles = np.reshape(angles, [self._njoints, 3])\n",
    "        R = np.zeros([self._njoints, 3, 3])\n",
    "        for i in range(self._njoints):\n",
    "            if self._parents[i] == -1:  # Root node\n",
    "                R[i] = np.eye(3)\n",
    "            else:\n",
    "                joints[i] = self._offsets[i].dot(R[self._parents[i]]) + joints[self._parents[i]]\n",
    "                R[i] = eulertoR(angles[i]).dot(R[self._parents[i]])\n",
    "        return joints\n",
    "    \n",
    "    def plot(self, joints):\n",
    "        plt.figure()\n",
    "        limits = 1200\n",
    "        ax = plt.axes(xlim=(-limits,limits), ylim=(-limits,limits), zlim=(-limits,limits), projection='3d')\n",
    "        ax.set_xlabel('x')\n",
    "        ax.set_ylabel('y')\n",
    "        ax.set_zlabel('z')\n",
    "        ax.view_init(elev=120, azim=-90)\n",
    "        ax.scatter(joints[:,0], joints[:,1], joints[:,2], color='black')\n",
    "        colors = ['red', 'yellow', 'black', 'green', 'blue']\n",
    "        for chain, color in zip(self._kinematic_tree, colors):\n",
    "            ax.plot3D(joints[chain,0], joints[chain,1], joints[chain,2], linewidth=2.0, color=color)\n"
   ]
  },
  {
   "cell_type": "markdown",
   "metadata": {},
   "source": [
    "## Initialze Skeleton class with following parameters"
   ]
  },
  {
   "cell_type": "code",
   "execution_count": 4,
   "metadata": {},
   "outputs": [],
   "source": [
    "# Define a kinematic tree for the skeletal struture\n",
    "# Left leg, Right leg, Spine, Left arm, Right arm\n",
    "kinematic_tree = [[0, 1, 2, 3, 4, 5], [0, 6, 7 ,8, 9, 10], [0, 12, 13, 14, 15], [13, 17, 18, 19, 22, 19, 21], [13, 25, 26, 27, 30, 27, 29]]\n",
    "parents = np.array([-1,  0,  1,  2,  3,  4,  0,  6,  7,  8,  9,  0, 11, 12, 13, 14, 12, 16, 17, 18, 19, 20, 19, 22, 12, 24, 25, 26, 27, 28, 27, 30])\n",
    "offsets = np.array([[0., 0., 0.],\n",
    "                   [-132.95, 0., 0.],\n",
    "                   [0., -442.89, 0.],\n",
    "                   [0., -454.21, 0.],\n",
    "                   [0., 0., 162.77],\n",
    "                   [0., 0., 75.],\n",
    "                   [132.95, 0., 0.],\n",
    "                   [0., -442.89, 0.],\n",
    "                   [0., -454.21, 0.],\n",
    "                   [0., 0., 162.77],\n",
    "                   [0., 0., 75.],\n",
    "                   [0., 0., 0.],\n",
    "                   [0., 233.38, 0.],\n",
    "                   [0., 257.08, 0.],\n",
    "                   [0., 121.13, 0.],\n",
    "                   [0., 115., 0.],\n",
    "                   [0., 257.08, 0.],\n",
    "                   [0., 151.03, 0.],\n",
    "                   [0., 278.88, 0.],\n",
    "                   [0., 251.73, 0.],\n",
    "                   [0., 0., 0.],\n",
    "                   [0., 0., 100.],\n",
    "                   [0., 137.5, 0.],\n",
    "                   [0., 0., 0.],\n",
    "                   [0., 257.08, 0.],\n",
    "                   [0., 151.03, 0.],\n",
    "                   [0., 278.88, 0.],\n",
    "                   [0., 251.73, 0.],\n",
    "                   [0., 0., 0.],\n",
    "                   [0., 0., 100.],\n",
    "                   [0., 137.5, 0.],\n",
    "                   [0., 0., 0.]])\n",
    "human_skel = Skeleton(kinematic_tree, offsets, parents)\n"
   ]
  },
  {
   "cell_type": "markdown",
   "metadata": {},
   "source": [
    "## Load a sample 3D pose and plot"
   ]
  },
  {
   "cell_type": "code",
   "execution_count": 6,
   "metadata": {},
   "outputs": [
    {
     "data": {
      "image/png": "[encoded data removed]",
      "text/plain": [
       "<Figure size 432x288 with 1 Axes>"
      ]
     },
     "metadata": {
      "needs_background": "light"
     },
     "output_type": "display_data"
    }
   ],
   "source": [
    "data = sio.loadmat('Data/h3.6m/Train/train_xyz/S1_directions_1_xyz.mat')['joint_xyz']\n",
    "# data = sio.loadmat('SMPL/walking_0.mat')['prediction']\n",
    "frame = 0\n",
    "joints_xyz = np.reshape(data[frame], [32,3])\n",
    "# We need to switch the y and z axis\n",
    "joints_xyz = joints_xyz[:,[0,2,1]]\n",
    "human_skel.plot(joints_xyz)"
   ]
  },
  {
   "cell_type": "markdown",
   "metadata": {},
   "source": [
    "## Load the same pose parameterized in lie parameters\n",
    "\n",
    "We apply forward kinematics and plot this pose."
   ]
  },
  {
   "cell_type": "code",
   "execution_count": 7,
   "metadata": {},
   "outputs": [
    {
     "data": {
      "image/png": "[encoded data removed]",
      "text/plain": [
       "<Figure size 432x288 with 1 Axes>"
      ]
     },
     "metadata": {
      "needs_background": "light"
     },
     "output_type": "display_data"
    }
   ],
   "source": [
    "data = sio.loadmat('Data/h3.6m/Train/train_lie//S1_directions_1_lie.mat')['lie_parameters']\n",
    "frame = 0\n",
    "lie_params = np.reshape(data[frame][3:], [32,3])\n",
    "joints_fwd = human_skel.forward_kinematics(lie_params)\n",
    "human_skel.plot(joints_fwd)"
   ]
  },
  {
   "cell_type": "markdown",
   "metadata": {},
   "source": [
    "## PyTorch Implementation\n",
    "In the following, we define the functions for exponentiating lie parameters to rotation matrices as well the forward kinematics process in PyTorch."
   ]
  },
  {
   "cell_type": "code",
   "execution_count": 8,
   "metadata": {},
   "outputs": [],
   "source": [
    "import torch\n",
    "from torch.autograd.variable import Variable\n",
    "device = torch.device(\"cuda\" if torch.cuda.is_available() else \"cpu\")\n",
    "\n",
    "parents = np.array([-1,  0,  1,  2,  3,  4,  0,  6,  7,  8,  9,  0, 11, 12, 13, 14, 12, 16, 17, 18, 19, 20, 19, 22, 12, 24, 25, 26, 27, 28, 27, 30])\n",
    "offsets = np.array([[0., 0., 0.],\n",
    "                   [-132.95, 0., 0.],\n",
    "                   [0., -442.89, 0.],\n",
    "                   [0., -454.21, 0.],\n",
    "                   [0., 0., 162.77],\n",
    "                   [0., 0., 75.],\n",
    "                   [132.95, 0., 0.],\n",
    "                   [0., -442.89, 0.],\n",
    "                   [0., -454.21, 0.],\n",
    "                   [0., 0., 162.77],\n",
    "                   [0., 0., 75.],\n",
    "                   [0., 0., 0.],\n",
    "                   [0., 233.38, 0.],\n",
    "                   [0., 257.08, 0.],\n",
    "                   [0., 121.13, 0.],\n",
    "                   [0., 115., 0.],\n",
    "                   [0., 257.08, 0.],\n",
    "                   [0., 151.03, 0.],\n",
    "                   [0., 278.88, 0.],\n",
    "                   [0., 251.73, 0.],\n",
    "                   [0., 0., 0.],\n",
    "                   [0., 0., 100.],\n",
    "                   [0., 137.5, 0.],\n",
    "                   [0., 0., 0.],\n",
    "                   [0., 257.08, 0.],\n",
    "                   [0., 151.03, 0.],\n",
    "                   [0., 278.88, 0.],\n",
    "                   [0., 251.73, 0.],\n",
    "                   [0., 0., 0.],\n",
    "                   [0., 0., 100.],\n",
    "                   [0., 137.5, 0.],\n",
    "                   [0., 0., 0.]])\n",
    "\n",
    "\n",
    "def LietoR_torch(A):\n",
    "    '''\n",
    "    Returns the rotation matrices from lie algebra parameters\n",
    "    pytorch version\n",
    "    :param A: njoints*3\n",
    "    :return R: njoints*3*3 \n",
    "    '''\n",
    "    theta = torch.norm(A, 2, 1)\n",
    "    r0 = torch.div(A, theta.unsqueeze(1).repeat(1, 3) + 0.0000001)\n",
    "    r1 = torch.zeros_like(r0).repeat(1, 3)\n",
    "    r1[:, 1] = -r0[:, 2]\n",
    "    r1[:, 2] = r0[:, 1]\n",
    "    r1[:, 5] = -r0[:, 0]\n",
    "    r1 = r1.view(-1, 3, 3)\n",
    "    r1 = r1 - r1.transpose(1, 2)\n",
    "    n = r1.data.shape[0]\n",
    "    R = Variable(torch.eye(3, 3).repeat(n, 1, 1)).float().to(device) \\\n",
    "        + torch.mul(torch.sin(theta).unsqueeze(1).repeat(1, 9).view(-1, 3, 3), r1) \\\n",
    "        + torch.mul((1 - torch.cos(theta).unsqueeze(1).repeat(1, 9).view(-1, 3, 3)), torch.matmul(r1, r1))\n",
    "    return R\n",
    "\n",
    "\n",
    "def forward_kinematics_torch(lie_params, parents, offsets):\n",
    "    '''\n",
    "    Returns the joint positions from lie algebra parameters\n",
    "    pytorch version\n",
    "    :param lie_params: njoints*3\n",
    "    :param parents\n",
    "    :param offsets\n",
    "    :return joints: njoints*3\n",
    "    '''\n",
    "    njoints = offsets.shape[0]    \n",
    "    joints = Variable(torch.from_numpy(offsets)).float().to(device)\n",
    "    R = LietoR_torch(lie_params).view(njoints, 3, 3)\n",
    "    for i in np.arange(1, njoints):\n",
    "        R[i, :, :] = torch.matmul(R[i, :, :], R[parents[i], :, :]).clone()\n",
    "        joints[i, :] = torch.matmul(joints[i, :], R[parents[i], :, :]) + joints[parents[i], :]\n",
    "    return joints\n"
   ]
  },
  {
   "cell_type": "code",
   "execution_count": 9,
   "metadata": {},
   "outputs": [
    {
     "ename": "RuntimeError",
     "evalue": "CUDA error: out of memory",
     "output_type": "error",
     "traceback": [
      "\u001b[1;31m---------------------------------------------------------------------------\u001b[0m",
      "\u001b[1;31mRuntimeError\u001b[0m                              Traceback (most recent call last)",
      "\u001b[1;32m<ipython-input-9-0f185660f0a6>\u001b[0m in \u001b[0;36m<module>\u001b[1;34m\u001b[0m\n\u001b[1;32m----> 1\u001b[1;33m \u001b[0mlie_params_torch\u001b[0m \u001b[1;33m=\u001b[0m \u001b[0mtorch\u001b[0m\u001b[1;33m.\u001b[0m\u001b[0mfrom_numpy\u001b[0m\u001b[1;33m(\u001b[0m\u001b[0mlie_params\u001b[0m\u001b[1;33m)\u001b[0m\u001b[1;33m.\u001b[0m\u001b[0mto\u001b[0m\u001b[1;33m(\u001b[0m\u001b[0mdevice\u001b[0m\u001b[1;33m)\u001b[0m\u001b[1;33m\u001b[0m\u001b[1;33m\u001b[0m\u001b[0m\n\u001b[0m\u001b[0;32m      2\u001b[0m \u001b[0mjoints_torch\u001b[0m \u001b[1;33m=\u001b[0m \u001b[0mforward_kinematics_torch\u001b[0m\u001b[1;33m(\u001b[0m\u001b[0mlie_params_torch\u001b[0m\u001b[1;33m,\u001b[0m \u001b[0mparents\u001b[0m\u001b[1;33m,\u001b[0m \u001b[0moffsets\u001b[0m\u001b[1;33m)\u001b[0m\u001b[1;33m\u001b[0m\u001b[1;33m\u001b[0m\u001b[0m\n\u001b[0;32m      3\u001b[0m \u001b[0mhuman_skel\u001b[0m\u001b[1;33m.\u001b[0m\u001b[0mplot\u001b[0m\u001b[1;33m(\u001b[0m\u001b[0mjoints_torch\u001b[0m\u001b[1;33m.\u001b[0m\u001b[0mcpu\u001b[0m\u001b[1;33m(\u001b[0m\u001b[1;33m)\u001b[0m\u001b[1;33m.\u001b[0m\u001b[0mnumpy\u001b[0m\u001b[1;33m(\u001b[0m\u001b[1;33m)\u001b[0m\u001b[1;33m)\u001b[0m\u001b[1;33m\u001b[0m\u001b[1;33m\u001b[0m\u001b[0m\n",
      "\u001b[1;31mRuntimeError\u001b[0m: CUDA error: out of memory"
     ]
    }
   ],
   "source": [
    "lie_params_torch = torch.from_numpy(lie_params).to(device)\n",
    "joints_torch = forward_kinematics_torch(lie_params_torch, parents, offsets)\n",
    "human_skel.plot(joints_torch.cpu().numpy())"
   ]
  },
  {
   "cell_type": "code",
   "execution_count": 419,
   "metadata": {},
   "outputs": [],
   "source": [
    "def normalize_vector(v):\n",
    "    v_mag = torch.sqrt(v.pow(2).sum(1))\n",
    "    v_mag = torch.max(v_mag, Variable(torch.FloatTensor([1e-8]).to(device)))\n",
    "    v_mag = v_mag.view(-1, 1).expand(v.shape[0], v.shape[1])\n",
    "    v = v / v_mag\n",
    "    return v\n",
    "\n",
    "\n",
    "def cross_product(u, v):\n",
    "    i = u[:, 1] * v[:, 2] - u[:, 2] * v[:, 1]\n",
    "    j = u[:, 2] * v[:, 0] - u[:, 0] * v[:, 2]\n",
    "    k = u[:, 0] * v[:, 1] - u[:, 1] * v[:, 0]\n",
    "\n",
    "    out = torch.cat((i.view(-1,1), j.view(-1,1), k.view(-1,1)),1)\n",
    "    return out\n",
    "\n",
    "def stiefeltoRotation(params):\n",
    "    R1_raw = params[:, 0:3]\n",
    "    R2_raw = params[:, 3:6]\n",
    "\n",
    "    R1 = normalize_vector(R1_raw)\n",
    "    R2 = normalize_vector(R2_raw)\n",
    "#     R3 = cross_product(R1, R2_raw)\n",
    "#     R3 = normalize_vector(R3)\n",
    "    R3 = cross_product(R1, R2)\n",
    "\n",
    "    R1 = R1.view(-1, 3, 1)\n",
    "    R2 = R2.view(-1, 3, 1)\n",
    "    R3 = R3.view(-1, 3, 1)\n",
    "    R = torch.cat((R1, R2, R3), 2)\n",
    "\n",
    "    return R"
   ]
  },
  {
   "cell_type": "code",
   "execution_count": 448,
   "metadata": {},
   "outputs": [],
   "source": [
    "def geodesic(R1, R2):\n",
    "    batch=R1.shape[0]\n",
    "    # arccos [(Tr(R1R2^T)-1)/2]\n",
    "    \n",
    "    R = torch.bmm(R1, R2.transpose(1,2)) #batch*3*3\n",
    "    cos = (R[:,0,0] + R[:,1,1] + R[:,2,2] - 1) / 2\n",
    "    cos = torch.min(cos, Variable(torch.ones(batch).to(device)))\n",
    "    cos = torch.max(cos, Variable(torch.ones(batch).to(device))*-1)\n",
    "    theta = torch.abs(torch.acos(cos))\n",
    "    \n",
    "    return theta"
   ]
  },
  {
   "cell_type": "code",
   "execution_count": 438,
   "metadata": {},
   "outputs": [],
   "source": [
    "def LietoR(A):\n",
    "    '''\n",
    "    Returns the rotation matrices from lie algebra parameters\n",
    "    :param A: njoints*3\n",
    "    :return R: njoints*3*3 \n",
    "    '''\n",
    "    njoints = A.shape[0]\n",
    "    theta = np.linalg.norm(A, 2, 1)\n",
    "    theta[theta == 0] = 1e-8\n",
    "    omega = np.divide(A, theta.repeat(3).reshape(-1,3))\n",
    "    omega_cross = np.zeros_like(omega).repeat(3, axis=1)\n",
    "    omega_cross[:, 1] = -omega[:, 2]\n",
    "    omega_cross[:, 2] = omega[:, 1]\n",
    "    omega_cross[:, 5] = -omega[:, 0]\n",
    "    omega_cross = omega_cross.reshape([-1,3,3])\n",
    "    omega_cross = omega_cross - omega_cross.transpose([0, 2, 1])\n",
    "    R = np.tile(np.eye(3, 3), [njoints,1,1]) + np.multiply(np.sin(theta).repeat(9).reshape([-1,3,3]), omega_cross) + np.multiply((1-np.cos(theta)).repeat(9).reshape([-1,3,3]), np.matmul(omega_cross, omega_cross))\n",
    "    return R\n",
    "\n",
    "\n",
    "def LietoStiefel(A):\n",
    "    '''\n",
    "    Returns the Stiefel manifold parameters from lie algebra parameters\n",
    "    :param A: nframes*njoints*3\n",
    "    :return S: nframes*(njoints*6)\n",
    "    '''\n",
    "    nframes = A.shape[0]\n",
    "    A = A.reshape([-1, 3])\n",
    "    R = LietoR(A)\n",
    "    S = R[:,:,:2].transpose([0,2,1]).reshape([nframes, -1])\n",
    "    return S"
   ]
  },
  {
   "cell_type": "code",
   "execution_count": 283,
   "metadata": {},
   "outputs": [],
   "source": [
    "def convertStiefel(data):\n",
    "    nframes = data.shape[0]\n",
    "    stiefel = np.zeros([nframes, 90])\n",
    "    stiefel[:,0:6] = data[:, dim_single]\n",
    "    stiefel[:,6:] = LietoStiefel(data[:,dim_triple].reshape(nframes, -1, 3))\n",
    "    \n",
    "    return stiefel"
   ]
  },
  {
   "cell_type": "code",
   "execution_count": 461,
   "metadata": {},
   "outputs": [],
   "source": [
    "def fk_stiefel(stiefel, parents, offsets):\n",
    "    '''\n",
    "    Returns the joint positions from stiefel parameters\n",
    "    pytorch version\n",
    "    :param stiefel\n",
    "    :param parents\n",
    "    :param offsets\n",
    "    :return joints: njoints*3\n",
    "    '''\n",
    "    njoints = offsets.shape[0]    \n",
    "    joints = Variable(torch.from_numpy(offsets)).float().to(device)\n",
    "    \n",
    "    s = torch.from_numpy(stiefel).float().to(device)\n",
    "    R = torch.eye(3).repeat(njoints,1,1).float().to(device)\n",
    "    A = torch.cat([s[0].unsqueeze(1), torch.zeros([6,2]).to(device)], axis=1)\n",
    "    R_A = LietoR_torch(A)\n",
    "    for i, idx in enumerate(single_idx):\n",
    "        R[idx] = R_A[i]\n",
    "    R_S = stiefeltoRotation(s[1:])\n",
    "    for i, idx in enumerate(stiefel_idx):\n",
    "        R[idx] = R_S[i]\n",
    "    for i in np.arange(1, njoints):\n",
    "        R[i, :, :] = torch.matmul(R[i, :, :], R[parents[i], :, :]).clone()\n",
    "        joints[i, :] = torch.matmul(joints[i, :], R[parents[i], :, :]) + joints[parents[i], :]\n",
    "    return joints"
   ]
  },
  {
   "cell_type": "code",
   "execution_count": 462,
   "metadata": {},
   "outputs": [
    {
     "data": {
      "image/png": "[encoded data removed]",
      "text/plain": [
       "<Figure size 432x288 with 1 Axes>"
      ]
     },
     "metadata": {
      "needs_background": "light"
     },
     "output_type": "display_data"
    }
   ],
   "source": [
    "S = convertStiefel(data)\n",
    "s = S[0].reshape(-1,6)\n",
    "joints_fwd = fk_stiefel(s, parents, offsets)\n",
    "human_skel.plot(joints_fwd.cpu().numpy())"
   ]
  },
  {
   "cell_type": "code",
   "execution_count": 456,
   "metadata": {},
   "outputs": [],
   "source": [
    "dim_single = [9,15,24,30,57,81]\n",
    "dim_triple = [6,7,8,12,13,14] + [21,22,23,27,28,29] + [x for x in range(36,48)] + [51,52,53,54,55,56,60,61,62] + [75,76,77,78,79,80,84,85,86]\n",
    "single_idx = np.array(dim_single) // 3 - 1\n",
    "stiefel_idx = np.array(dim_triple).reshape([-1,3])[:,0]//3 - 1"
   ]
  },
  {
   "cell_type": "code",
   "execution_count": null,
   "metadata": {},
   "outputs": [],
   "source": []
  }
 ],
 "metadata": {
  "kernelspec": {
   "display_name": "Python 3",
   "language": "python",
   "name": "python3"
  },
  "language_info": {
   "codemirror_mode": {
    "name": "ipython",
    "version": 3
   },
   "file_extension": ".py",
   "mimetype": "text/x-python",
   "name": "python",
   "nbconvert_exporter": "python",
   "pygments_lexer": "ipython3",
   "version": "3.8.5"
  }
 },
 "nbformat": 4,
 "nbformat_minor": 2
}
